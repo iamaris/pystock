{
 "metadata": {
  "name": ""
 },
 "nbformat": 3,
 "nbformat_minor": 0,
 "worksheets": [
  {
   "cells": [
    {
     "cell_type": "code",
     "collapsed": false,
     "input": [
      "import pandas as pd\n",
      "from datetime import datetime\n",
      "from pandas.io.data import DataReader\n",
      "import matplotlib.pyplot as plt"
     ],
     "language": "python",
     "metadata": {},
     "outputs": [],
     "prompt_number": 29
    },
    {
     "cell_type": "code",
     "collapsed": false,
     "input": [
      "spx = DataReader(\"^GSPC\", \"yahoo\", datetime(2000,1,1))\n",
      "sso = DataReader(\"SSO\", \"yahoo\", datetime(2000,1,1))\n",
      "znga = DataReader(\"ZNGA\", \"yahoo\", datetime(2013,1,1))\n",
      "gluu = DataReader(\"GLUU\", \"yahoo\", datetime(2013,1,1))\n",
      "znga.head()"
     ],
     "language": "python",
     "metadata": {},
     "outputs": [
      {
       "html": [
        "<div style=\"max-height:1000px;max-width:1500px;overflow:auto;\">\n",
        "<table border=\"1\" class=\"dataframe\">\n",
        "  <thead>\n",
        "    <tr style=\"text-align: right;\">\n",
        "      <th></th>\n",
        "      <th>Open</th>\n",
        "      <th>High</th>\n",
        "      <th>Low</th>\n",
        "      <th>Close</th>\n",
        "      <th>Volume</th>\n",
        "      <th>Adj Close</th>\n",
        "    </tr>\n",
        "    <tr>\n",
        "      <th>Date</th>\n",
        "      <th></th>\n",
        "      <th></th>\n",
        "      <th></th>\n",
        "      <th></th>\n",
        "      <th></th>\n",
        "      <th></th>\n",
        "    </tr>\n",
        "  </thead>\n",
        "  <tbody>\n",
        "    <tr>\n",
        "      <th>2013-01-02</th>\n",
        "      <td> 2.41</td>\n",
        "      <td> 2.45</td>\n",
        "      <td> 2.34</td>\n",
        "      <td> 2.39</td>\n",
        "      <td> 19488000</td>\n",
        "      <td> 2.39</td>\n",
        "    </tr>\n",
        "    <tr>\n",
        "      <th>2013-01-03</th>\n",
        "      <td> 2.39</td>\n",
        "      <td> 2.45</td>\n",
        "      <td> 2.35</td>\n",
        "      <td> 2.41</td>\n",
        "      <td> 13589700</td>\n",
        "      <td> 2.41</td>\n",
        "    </tr>\n",
        "    <tr>\n",
        "      <th>2013-01-04</th>\n",
        "      <td> 2.43</td>\n",
        "      <td> 2.69</td>\n",
        "      <td> 2.42</td>\n",
        "      <td> 2.63</td>\n",
        "      <td> 36848200</td>\n",
        "      <td> 2.63</td>\n",
        "    </tr>\n",
        "    <tr>\n",
        "      <th>2013-01-07</th>\n",
        "      <td> 2.67</td>\n",
        "      <td> 2.76</td>\n",
        "      <td> 2.62</td>\n",
        "      <td> 2.62</td>\n",
        "      <td> 31078800</td>\n",
        "      <td> 2.62</td>\n",
        "    </tr>\n",
        "    <tr>\n",
        "      <th>2013-01-08</th>\n",
        "      <td> 2.59</td>\n",
        "      <td> 2.62</td>\n",
        "      <td> 2.48</td>\n",
        "      <td> 2.50</td>\n",
        "      <td> 14958100</td>\n",
        "      <td> 2.50</td>\n",
        "    </tr>\n",
        "  </tbody>\n",
        "</table>\n",
        "<p>5 rows \u00d7 6 columns</p>\n",
        "</div>"
       ],
       "metadata": {},
       "output_type": "pyout",
       "prompt_number": 35,
       "text": [
        "            Open  High   Low  Close    Volume  Adj Close\n",
        "Date                                                    \n",
        "2013-01-02  2.41  2.45  2.34   2.39  19488000       2.39\n",
        "2013-01-03  2.39  2.45  2.35   2.41  13589700       2.41\n",
        "2013-01-04  2.43  2.69  2.42   2.63  36848200       2.63\n",
        "2013-01-07  2.67  2.76  2.62   2.62  31078800       2.62\n",
        "2013-01-08  2.59  2.62  2.48   2.50  14958100       2.50\n",
        "\n",
        "[5 rows x 6 columns]"
       ]
      }
     ],
     "prompt_number": 35
    },
    {
     "cell_type": "code",
     "collapsed": false,
     "input": [
      "spx = spx.reindex(sso.index)\n",
      "both = pd.DataFrame(data = {'spx': spx['Adj Close'], 'sso': sso['Adj Close']})\n",
      "both.head()"
     ],
     "language": "python",
     "metadata": {},
     "outputs": [
      {
       "html": [
        "<div style=\"max-height:1000px;max-width:1500px;overflow:auto;\">\n",
        "<table border=\"1\" class=\"dataframe\">\n",
        "  <thead>\n",
        "    <tr style=\"text-align: right;\">\n",
        "      <th></th>\n",
        "      <th>spx</th>\n",
        "      <th>sso</th>\n",
        "    </tr>\n",
        "    <tr>\n",
        "      <th>Date</th>\n",
        "      <th></th>\n",
        "      <th></th>\n",
        "    </tr>\n",
        "  </thead>\n",
        "  <tbody>\n",
        "    <tr>\n",
        "      <th>2006-06-21</th>\n",
        "      <td> 1252.20</td>\n",
        "      <td> 62.21</td>\n",
        "    </tr>\n",
        "    <tr>\n",
        "      <th>2006-06-22</th>\n",
        "      <td> 1245.60</td>\n",
        "      <td> 61.55</td>\n",
        "    </tr>\n",
        "    <tr>\n",
        "      <th>2006-06-23</th>\n",
        "      <td> 1244.50</td>\n",
        "      <td> 61.54</td>\n",
        "    </tr>\n",
        "    <tr>\n",
        "      <th>2006-06-26</th>\n",
        "      <td> 1250.56</td>\n",
        "      <td> 61.90</td>\n",
        "    </tr>\n",
        "    <tr>\n",
        "      <th>2006-06-27</th>\n",
        "      <td> 1239.20</td>\n",
        "      <td> 60.80</td>\n",
        "    </tr>\n",
        "  </tbody>\n",
        "</table>\n",
        "<p>5 rows \u00d7 2 columns</p>\n",
        "</div>"
       ],
       "metadata": {},
       "output_type": "pyout",
       "prompt_number": 31,
       "text": [
        "                spx    sso\n",
        "Date                      \n",
        "2006-06-21  1252.20  62.21\n",
        "2006-06-22  1245.60  61.55\n",
        "2006-06-23  1244.50  61.54\n",
        "2006-06-26  1250.56  61.90\n",
        "2006-06-27  1239.20  60.80\n",
        "\n",
        "[5 rows x 2 columns]"
       ]
      }
     ],
     "prompt_number": 31
    },
    {
     "cell_type": "code",
     "collapsed": false,
     "input": [
      "both.plot()"
     ],
     "language": "python",
     "metadata": {},
     "outputs": [
      {
       "metadata": {},
       "output_type": "pyout",
       "prompt_number": 32,
       "text": [
        "<matplotlib.axes.AxesSubplot at 0x4430290>"
       ]
      }
     ],
     "prompt_number": 32
    },
    {
     "cell_type": "code",
     "collapsed": false,
     "input": [
      "plt.show()"
     ],
     "language": "python",
     "metadata": {},
     "outputs": [],
     "prompt_number": 33
    },
    {
     "cell_type": "code",
     "collapsed": false,
     "input": [],
     "language": "python",
     "metadata": {},
     "outputs": [],
     "prompt_number": 28
    },
    {
     "cell_type": "code",
     "collapsed": false,
     "input": [],
     "language": "python",
     "metadata": {},
     "outputs": [],
     "prompt_number": 28
    },
    {
     "cell_type": "code",
     "collapsed": false,
     "input": [],
     "language": "python",
     "metadata": {},
     "outputs": []
    }
   ],
   "metadata": {}
  }
 ]
}